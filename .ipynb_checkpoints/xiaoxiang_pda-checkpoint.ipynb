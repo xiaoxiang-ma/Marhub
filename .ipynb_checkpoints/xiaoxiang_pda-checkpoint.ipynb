{
 "cells": [
  {
   "cell_type": "code",
   "execution_count": 1,
   "metadata": {},
   "outputs": [],
   "source": [
    "import numpy as np\n",
    "import pandas as pd\n",
    "import matplotlib.pyplot as plt \n",
    "from scipy.stats import pearsonr\n",
    "from sklearn.linear_model import LogisticRegression "
   ]
  },
  {
   "cell_type": "code",
   "execution_count": 2,
   "metadata": {},
   "outputs": [],
   "source": [
    "path = \"../Final Soft Launch Results/Current Source Data/\""
   ]
  },
  {
   "cell_type": "code",
   "execution_count": 3,
   "metadata": {},
   "outputs": [],
   "source": [
    "d1=\"Data from IRAP 01072020.xlsx\"\n",
    "d2=\"Merge for Vulnerability Screening.xlsx\"\n",
    "d3=\"Raw Data from Mona 01172020.xlsx\""
   ]
  },
  {
   "cell_type": "code",
   "execution_count": 4,
   "metadata": {},
   "outputs": [],
   "source": [
    "irap = pd.read_excel (path+d1)\n",
    "# merge = pd.read_excel (path+d2)\n",
    "mona = pd.read_excel (path+d3)"
   ]
  },
  {
   "cell_type": "code",
   "execution_count": 184,
   "metadata": {},
   "outputs": [],
   "source": [
    "irap['process_days'] = irap['Date of Screening Decision']-irap['Date of Screening Start']\n",
    "irap['process_days'] = irap['process_days'].astype('timedelta64[D]')"
   ]
  },
  {
   "cell_type": "code",
   "execution_count": 7,
   "metadata": {},
   "outputs": [],
   "source": [
    "mona = mona.rename({'Contact UUID': 'Mona Unique User ID'}, axis=1)"
   ]
  },
  {
   "cell_type": "code",
   "execution_count": 185,
   "metadata": {},
   "outputs": [
    {
     "data": {
      "text/plain": [
       "(1086, 23)"
      ]
     },
     "execution_count": 185,
     "metadata": {},
     "output_type": "execute_result"
    }
   ],
   "source": [
    "irap.shape"
   ]
  },
  {
   "cell_type": "code",
   "execution_count": 9,
   "metadata": {},
   "outputs": [],
   "source": [
    "result = pd.merge(irap, mona[['Field:Medical Needs Score','Mona Unique User ID', 'Field:LPPN Score']], on='Mona Unique User ID',how=\"left\")"
   ]
  },
  {
   "cell_type": "code",
   "execution_count": 251,
   "metadata": {},
   "outputs": [],
   "source": [
    "full = pd.merge(irap, mona, on='Mona Unique User ID',how=\"left\").dropna(axis=1, how='all')"
   ]
  },
  {
   "cell_type": "code",
   "execution_count": 252,
   "metadata": {},
   "outputs": [],
   "source": [
    "full['Field:Gender'].replace(('Male', 'Female'), (1, 0), inplace=True)\n",
    "full['Vulnerability Threshold'].replace(('Above', 'Below'), (1, 0), inplace=True)"
   ]
  },
  {
   "cell_type": "code",
   "execution_count": 253,
   "metadata": {},
   "outputs": [],
   "source": [
    "def one_hot(dataframe,column_name):\n",
    "    gen_onehot_features = pd.get_dummies(dataframe[column_name])\n",
    "    result = pd.concat([dataframe, gen_onehot_features],axis=1)\n",
    "    return result"
   ]
  },
  {
   "cell_type": "code",
   "execution_count": 254,
   "metadata": {},
   "outputs": [],
   "source": [
    "full['Field:Nationality1'] = 'nationality_' + full['Field:Nationality1']\n",
    "full = one_hot(full,'Field:Nationality1')\n"
   ]
  },
  {
   "cell_type": "code",
   "execution_count": 255,
   "metadata": {},
   "outputs": [],
   "source": [
    "full['Field:Current Country'] = 'curr_country_' + full['Field:Current Country']\n",
    "full = one_hot(full,'Field:Current Country')"
   ]
  },
  {
   "cell_type": "code",
   "execution_count": 257,
   "metadata": {},
   "outputs": [],
   "source": [
    "numeric = full.select_dtypes(exclude=['object','datetime64[ns]'])"
   ]
  },
  {
   "cell_type": "code",
   "execution_count": 258,
   "metadata": {},
   "outputs": [
    {
     "data": {
      "text/html": [
       "<div>\n",
       "<style scoped>\n",
       "    .dataframe tbody tr th:only-of-type {\n",
       "        vertical-align: middle;\n",
       "    }\n",
       "\n",
       "    .dataframe tbody tr th {\n",
       "        vertical-align: top;\n",
       "    }\n",
       "\n",
       "    .dataframe thead th {\n",
       "        text-align: right;\n",
       "    }\n",
       "</style>\n",
       "<table border=\"1\" class=\"dataframe\">\n",
       "  <thead>\n",
       "    <tr style=\"text-align: right;\">\n",
       "      <th></th>\n",
       "      <th>Mona Unique Session ID</th>\n",
       "      <th>Mona Unique User ID</th>\n",
       "      <th>Created on</th>\n",
       "      <th>Created by</th>\n",
       "      <th>Pipeline</th>\n",
       "      <th>Date of Referral</th>\n",
       "      <th>First Referral</th>\n",
       "      <th>In IRAP Process</th>\n",
       "      <th>Screening Stage</th>\n",
       "      <th>Screener</th>\n",
       "      <th>...</th>\n",
       "      <th>Field:Pause Handoffs</th>\n",
       "      <th>Field:Lebanon Location</th>\n",
       "      <th>nationality_Iraqi</th>\n",
       "      <th>nationality_Syrian</th>\n",
       "      <th>curr_country_Egypt</th>\n",
       "      <th>curr_country_Iraq</th>\n",
       "      <th>curr_country_Lebanon</th>\n",
       "      <th>curr_country_Saudi Arabia</th>\n",
       "      <th>curr_country_Syria</th>\n",
       "      <th>curr_country_Turkey</th>\n",
       "    </tr>\n",
       "  </thead>\n",
       "  <tbody>\n",
       "    <tr>\n",
       "      <th>0</th>\n",
       "      <td>ce81140c-7083-4463-90ed-ad36d1a41011.2019-07-2...</td>\n",
       "      <td>ce81140c-7083-4463-90ed-ad36d1a41011</td>\n",
       "      <td>2019-12-11 06:02:17</td>\n",
       "      <td>Brooke Sauro</td>\n",
       "      <td>Mona</td>\n",
       "      <td>2019-07-25</td>\n",
       "      <td>No</td>\n",
       "      <td>No</td>\n",
       "      <td>Screening Complete</td>\n",
       "      <td>Michaela Gallien</td>\n",
       "      <td>...</td>\n",
       "      <td>NaN</td>\n",
       "      <td>NaN</td>\n",
       "      <td>0</td>\n",
       "      <td>1</td>\n",
       "      <td>0</td>\n",
       "      <td>0</td>\n",
       "      <td>1</td>\n",
       "      <td>0</td>\n",
       "      <td>0</td>\n",
       "      <td>0</td>\n",
       "    </tr>\n",
       "    <tr>\n",
       "      <th>1</th>\n",
       "      <td>92952aa434524f549543d3fcc79054fe20190804T02434...</td>\n",
       "      <td>92952aa4-3452-4f54-9543-d3fcc79054fe</td>\n",
       "      <td>2019-12-11 06:02:17</td>\n",
       "      <td>Brooke Sauro</td>\n",
       "      <td>Mona</td>\n",
       "      <td>2019-08-03</td>\n",
       "      <td>No</td>\n",
       "      <td>Yes</td>\n",
       "      <td>Screening Complete</td>\n",
       "      <td>Manal ElKhoury</td>\n",
       "      <td>...</td>\n",
       "      <td>Yes</td>\n",
       "      <td>NaN</td>\n",
       "      <td>0</td>\n",
       "      <td>1</td>\n",
       "      <td>0</td>\n",
       "      <td>0</td>\n",
       "      <td>1</td>\n",
       "      <td>0</td>\n",
       "      <td>0</td>\n",
       "      <td>0</td>\n",
       "    </tr>\n",
       "    <tr>\n",
       "      <th>2</th>\n",
       "      <td>8a4a87a6eeeb43019d820644a8a7534620190802T07350...</td>\n",
       "      <td>8a4a87a6-eeeb-4301-9d82-0644a8a75346</td>\n",
       "      <td>2019-12-11 06:02:17</td>\n",
       "      <td>Brooke Sauro</td>\n",
       "      <td>Mona</td>\n",
       "      <td>2019-08-02</td>\n",
       "      <td>No</td>\n",
       "      <td>No</td>\n",
       "      <td>Screening</td>\n",
       "      <td>Tiba Fatli</td>\n",
       "      <td>...</td>\n",
       "      <td>NaN</td>\n",
       "      <td>NaN</td>\n",
       "      <td>0</td>\n",
       "      <td>1</td>\n",
       "      <td>0</td>\n",
       "      <td>0</td>\n",
       "      <td>1</td>\n",
       "      <td>0</td>\n",
       "      <td>0</td>\n",
       "      <td>0</td>\n",
       "    </tr>\n",
       "    <tr>\n",
       "      <th>3</th>\n",
       "      <td>758240c9578a4e29b66bd1d95de9cdc620190802T21293...</td>\n",
       "      <td>758240c9-578a-4e29-b66b-d1d95de9cdc6</td>\n",
       "      <td>2019-12-11 06:02:17</td>\n",
       "      <td>Brooke Sauro</td>\n",
       "      <td>Mona</td>\n",
       "      <td>2019-08-02</td>\n",
       "      <td>No</td>\n",
       "      <td>No</td>\n",
       "      <td>Screening Complete</td>\n",
       "      <td>Tania El Khoury</td>\n",
       "      <td>...</td>\n",
       "      <td>NaN</td>\n",
       "      <td>NaN</td>\n",
       "      <td>0</td>\n",
       "      <td>1</td>\n",
       "      <td>0</td>\n",
       "      <td>0</td>\n",
       "      <td>1</td>\n",
       "      <td>0</td>\n",
       "      <td>0</td>\n",
       "      <td>0</td>\n",
       "    </tr>\n",
       "    <tr>\n",
       "      <th>4</th>\n",
       "      <td>55865e62-97b3-4656-b470-7eaaa6a517cf.2019-07-2...</td>\n",
       "      <td>55865e62-97b3-4656-b470-7eaaa6a517cf</td>\n",
       "      <td>2019-12-11 06:02:16</td>\n",
       "      <td>Brooke Sauro</td>\n",
       "      <td>Mona</td>\n",
       "      <td>2019-07-26</td>\n",
       "      <td>No</td>\n",
       "      <td>No</td>\n",
       "      <td>Screening Complete</td>\n",
       "      <td>Tania El Khoury</td>\n",
       "      <td>...</td>\n",
       "      <td>Yes</td>\n",
       "      <td>طرابلس مخيم البداوي.</td>\n",
       "      <td>0</td>\n",
       "      <td>1</td>\n",
       "      <td>0</td>\n",
       "      <td>0</td>\n",
       "      <td>1</td>\n",
       "      <td>0</td>\n",
       "      <td>0</td>\n",
       "      <td>0</td>\n",
       "    </tr>\n",
       "  </tbody>\n",
       "</table>\n",
       "<p>5 rows × 332 columns</p>\n",
       "</div>"
      ],
      "text/plain": [
       "                              Mona Unique Session ID  \\\n",
       "0  ce81140c-7083-4463-90ed-ad36d1a41011.2019-07-2...   \n",
       "1  92952aa434524f549543d3fcc79054fe20190804T02434...   \n",
       "2  8a4a87a6eeeb43019d820644a8a7534620190802T07350...   \n",
       "3  758240c9578a4e29b66bd1d95de9cdc620190802T21293...   \n",
       "4  55865e62-97b3-4656-b470-7eaaa6a517cf.2019-07-2...   \n",
       "\n",
       "                    Mona Unique User ID          Created on    Created by  \\\n",
       "0  ce81140c-7083-4463-90ed-ad36d1a41011 2019-12-11 06:02:17  Brooke Sauro   \n",
       "1  92952aa4-3452-4f54-9543-d3fcc79054fe 2019-12-11 06:02:17  Brooke Sauro   \n",
       "2  8a4a87a6-eeeb-4301-9d82-0644a8a75346 2019-12-11 06:02:17  Brooke Sauro   \n",
       "3  758240c9-578a-4e29-b66b-d1d95de9cdc6 2019-12-11 06:02:17  Brooke Sauro   \n",
       "4  55865e62-97b3-4656-b470-7eaaa6a517cf 2019-12-11 06:02:16  Brooke Sauro   \n",
       "\n",
       "  Pipeline Date of Referral First Referral In IRAP Process  \\\n",
       "0     Mona       2019-07-25             No              No   \n",
       "1     Mona       2019-08-03             No             Yes   \n",
       "2     Mona       2019-08-02             No              No   \n",
       "3     Mona       2019-08-02             No              No   \n",
       "4     Mona       2019-07-26             No              No   \n",
       "\n",
       "      Screening Stage          Screener  ... Field:Pause Handoffs  \\\n",
       "0  Screening Complete  Michaela Gallien  ...                  NaN   \n",
       "1  Screening Complete    Manal ElKhoury  ...                  Yes   \n",
       "2           Screening        Tiba Fatli  ...                  NaN   \n",
       "3  Screening Complete   Tania El Khoury  ...                  NaN   \n",
       "4  Screening Complete   Tania El Khoury  ...                  Yes   \n",
       "\n",
       "  Field:Lebanon Location nationality_Iraqi nationality_Syrian  \\\n",
       "0                    NaN                 0                  1   \n",
       "1                    NaN                 0                  1   \n",
       "2                    NaN                 0                  1   \n",
       "3                    NaN                 0                  1   \n",
       "4   طرابلس مخيم البداوي.                 0                  1   \n",
       "\n",
       "  curr_country_Egypt curr_country_Iraq  curr_country_Lebanon  \\\n",
       "0                  0                 0                     1   \n",
       "1                  0                 0                     1   \n",
       "2                  0                 0                     1   \n",
       "3                  0                 0                     1   \n",
       "4                  0                 0                     1   \n",
       "\n",
       "  curr_country_Saudi Arabia curr_country_Syria curr_country_Turkey  \n",
       "0                         0                  0                   0  \n",
       "1                         0                  0                   0  \n",
       "2                         0                  0                   0  \n",
       "3                         0                  0                   0  \n",
       "4                         0                  0                   0  \n",
       "\n",
       "[5 rows x 332 columns]"
      ]
     },
     "execution_count": 258,
     "metadata": {},
     "output_type": "execute_result"
    }
   ],
   "source": [
    "full.head()"
   ]
  },
  {
   "cell_type": "code",
   "execution_count": 259,
   "metadata": {},
   "outputs": [
    {
     "data": {
      "text/plain": [
       "(1086, 35)"
      ]
     },
     "execution_count": 259,
     "metadata": {},
     "output_type": "execute_result"
    }
   ],
   "source": [
    "numeric.shape"
   ]
  },
  {
   "cell_type": "code",
   "execution_count": 260,
   "metadata": {},
   "outputs": [],
   "source": [
    "multiple_vars = numeric[numeric['Field:Age'].notna() \n",
    "        & numeric['Field:Gender'].notna()\n",
    "        & numeric['Field:Medical Condition Score'].notna()\n",
    "        & numeric['Vulnerability Threshold'].notna()\n",
    "        & numeric['Field:LPPN Score'].notna()\n",
    "        & numeric['process_days'].notna()\n",
    "       ].dropna(axis=1)"
   ]
  },
  {
   "cell_type": "code",
   "execution_count": 204,
   "metadata": {},
   "outputs": [
    {
     "data": {
      "text/plain": [
       "0.0    309\n",
       "5.0    147\n",
       "4.0     88\n",
       "6.0     86\n",
       "3.0     48\n",
       "2.0     14\n",
       "1.0     11\n",
       "Name: Field:Medical Needs Score, dtype: int64"
      ]
     },
     "execution_count": 204,
     "metadata": {},
     "output_type": "execute_result"
    }
   ],
   "source": [
    "result['Field:Medical Needs Score'].value_counts()"
   ]
  },
  {
   "cell_type": "code",
   "execution_count": 142,
   "metadata": {},
   "outputs": [
    {
     "data": {
      "text/plain": [
       "(1086,)"
      ]
     },
     "execution_count": 142,
     "metadata": {},
     "output_type": "execute_result"
    }
   ],
   "source": [
    "result['process_days'].shape"
   ]
  },
  {
   "cell_type": "markdown",
   "metadata": {},
   "source": [
    "### Part A: Mona’s Vulnerability Scores versus Decision-Making Time:\n"
   ]
  },
  {
   "cell_type": "code",
   "execution_count": 13,
   "metadata": {},
   "outputs": [
    {
     "data": {
      "image/png": "[encoded data removed]",
      "text/plain": [
       "<Figure size 720x360 with 1 Axes>"
      ]
     },
     "metadata": {
      "needs_background": "light"
     },
     "output_type": "display_data"
    }
   ],
   "source": [
    "fig = plt.figure(figsize=[10,5])\n",
    "plt.scatter(result['Field:Medical Needs Score'], result['process_days'], \n",
    "            marker=\"o\",alpha=0.2)\n",
    "\n",
    "plt.ylim(-2,)\n",
    "plt.title(\"Medical Needs\")\n",
    "plt.xlabel(\"Medical Needs Score\")\n",
    "plt.ylabel(\"No. of days to process\")\n",
    "\n",
    "plt.show()"
   ]
  },
  {
   "cell_type": "code",
   "execution_count": 14,
   "metadata": {},
   "outputs": [
    {
     "data": {
      "image/png": "[encoded data removed]",
      "text/plain": [
       "<Figure size 720x360 with 1 Axes>"
      ]
     },
     "metadata": {
      "needs_background": "light"
     },
     "output_type": "display_data"
    }
   ],
   "source": [
    "fig = plt.figure(figsize=[10,5])\n",
    "plt.scatter(result['Field:LPPN Score'], result['process_days'], \n",
    "            marker=\"o\",alpha=0.2,c=\"g\")\n",
    "\n",
    "plt.ylim(-2,)\n",
    "plt.title(\"LPPN (Legal and Physical Protection Needs)\")\n",
    "plt.xlabel(\"LPPN Score\")\n",
    "plt.ylabel(\"No. of days to process\")\n",
    "\n",
    "plt.show()"
   ]
  },
  {
   "cell_type": "code",
   "execution_count": 15,
   "metadata": {},
   "outputs": [
    {
     "data": {
      "image/png": "[encoded data removed]",
      "text/plain": [
       "<Figure size 720x144 with 1 Axes>"
      ]
     },
     "metadata": {
      "needs_background": "light"
     },
     "output_type": "display_data"
    }
   ],
   "source": [
    "fig = plt.figure(figsize=[10,2])\n",
    "plt.scatter(result['Field:LPPN Score'], [1 if i ==1 else 0 for i in result['process_days']], \n",
    "            marker=\"o\",alpha=0.2,c=\"g\")\n",
    "\n",
    "# plt.ylim(-,)\n",
    "plt.title(\"LPPN (Legal and Physical Protection Needs)\")\n",
    "plt.xlabel(\"LPPN Score\")\n",
    "plt.ylabel(\"Screening finished in one day?\")\n",
    "\n",
    "plt.show()"
   ]
  },
  {
   "cell_type": "code",
   "execution_count": 16,
   "metadata": {
    "scrolled": true
   },
   "outputs": [
    {
     "data": {
      "image/png": "[encoded data removed]",
      "text/plain": [
       "<Figure size 432x288 with 1 Axes>"
      ]
     },
     "metadata": {
      "needs_background": "light"
     },
     "output_type": "display_data"
    }
   ],
   "source": [
    "index = [0,1,2,3,4,5,6]\n",
    "n_days = [result.loc[(result['Field:LPPN Score'] == i) & (result['process_days'] > 1)].shape[0] for i in index]\n",
    "one_day = [result.loc[(result['Field:LPPN Score'] == i) & (result['process_days'] == 1)].shape[0] for i in index]\n",
    "df = pd.DataFrame({'Screening took 1 day': one_day,\n",
    "                   'Screening took >1 days': n_days}, index=index)\n",
    "df.plot.bar(rot=0)\n",
    "plt.xlabel(\"LPPN Score\")\n",
    "plt.ylabel(\"Frequencies\")\n",
    "\n",
    "plt.show()"
   ]
  },
  {
   "cell_type": "markdown",
   "metadata": {},
   "source": [
    "### Part B: Mona’s Vulnerability Scores verses IRAP’s Above/Below Threshold\n"
   ]
  },
  {
   "cell_type": "code",
   "execution_count": 17,
   "metadata": {},
   "outputs": [
    {
     "data": {
      "text/plain": [
       "Below    705\n",
       "Above     15\n",
       "Name: Vulnerability Threshold, dtype: int64"
      ]
     },
     "execution_count": 17,
     "metadata": {},
     "output_type": "execute_result"
    }
   ],
   "source": [
    "result['Vulnerability Threshold'].value_counts()"
   ]
  },
  {
   "cell_type": "code",
   "execution_count": 18,
   "metadata": {
    "scrolled": true
   },
   "outputs": [
    {
     "data": {
      "image/png": "[encoded data removed]",
      "text/plain": [
       "<Figure size 432x288 with 1 Axes>"
      ]
     },
     "metadata": {
      "needs_background": "light"
     },
     "output_type": "display_data"
    }
   ],
   "source": [
    "index = [0,1,2,3,4,5,6]\n",
    "below = [result.loc[(result['Field:Medical Needs Score'] == i) & \n",
    "                    (result['Vulnerability Threshold'] ==\"Below\")].shape[0] for i in index]\n",
    "above = [result.loc[(result['Field:Medical Needs Score'] == i) & \n",
    "                    (result['Vulnerability Threshold'] == \"Above\")].shape[0] for i in index]\n",
    "df = pd.DataFrame({'below': below,\n",
    "                   'above': above}, index=index)\n",
    "df.plot.bar(rot=0)\n",
    "plt.xlabel(\"Medical Needs Score\")\n",
    "plt.ylabel(\"Frequencies\")\n",
    "\n",
    "plt.show()"
   ]
  },
  {
   "cell_type": "code",
   "execution_count": 19,
   "metadata": {
    "scrolled": true
   },
   "outputs": [
    {
     "data": {
      "image/png": "[encoded data removed]",
      "text/plain": [
       "<Figure size 432x288 with 1 Axes>"
      ]
     },
     "metadata": {
      "needs_background": "light"
     },
     "output_type": "display_data"
    }
   ],
   "source": [
    "index = [0,1,2,3,4,5,6]\n",
    "\n",
    "below = [result.loc[(result['Field:LPPN Score'] == i) & \n",
    "                    (result['Vulnerability Threshold'] ==\"Below\")].shape[0] for i in index]\n",
    "above = [result.loc[(result['Field:LPPN Score'] == i) & \n",
    "                    (result['Vulnerability Threshold'] == \"Above\")].shape[0] for i in index]\n",
    "df = pd.DataFrame({'below': below,\n",
    "                   'above': above}, index=index)\n",
    "df.plot.bar(rot=0)\n",
    "plt.xlabel(\"LPPN Score\")\n",
    "plt.ylabel(\"Frequencies\")\n",
    "\n",
    "plt.show()"
   ]
  },
  {
   "cell_type": "markdown",
   "metadata": {},
   "source": [
    "### Tables"
   ]
  },
  {
   "cell_type": "code",
   "execution_count": 20,
   "metadata": {},
   "outputs": [
    {
     "data": {
      "text/html": [
       "<div>\n",
       "<style scoped>\n",
       "    .dataframe tbody tr th:only-of-type {\n",
       "        vertical-align: middle;\n",
       "    }\n",
       "\n",
       "    .dataframe tbody tr th {\n",
       "        vertical-align: top;\n",
       "    }\n",
       "\n",
       "    .dataframe thead th {\n",
       "        text-align: right;\n",
       "    }\n",
       "</style>\n",
       "<table border=\"1\" class=\"dataframe\">\n",
       "  <thead>\n",
       "    <tr style=\"text-align: right;\">\n",
       "      <th>Vulnerability Threshold</th>\n",
       "      <th>Above</th>\n",
       "      <th>Below</th>\n",
       "    </tr>\n",
       "    <tr>\n",
       "      <th>Field:LPPN Score</th>\n",
       "      <th></th>\n",
       "      <th></th>\n",
       "    </tr>\n",
       "  </thead>\n",
       "  <tbody>\n",
       "    <tr>\n",
       "      <th>0.0</th>\n",
       "      <td>2</td>\n",
       "      <td>157</td>\n",
       "    </tr>\n",
       "    <tr>\n",
       "      <th>1.0</th>\n",
       "      <td>0</td>\n",
       "      <td>29</td>\n",
       "    </tr>\n",
       "    <tr>\n",
       "      <th>2.0</th>\n",
       "      <td>0</td>\n",
       "      <td>14</td>\n",
       "    </tr>\n",
       "    <tr>\n",
       "      <th>3.0</th>\n",
       "      <td>0</td>\n",
       "      <td>26</td>\n",
       "    </tr>\n",
       "    <tr>\n",
       "      <th>4.0</th>\n",
       "      <td>2</td>\n",
       "      <td>23</td>\n",
       "    </tr>\n",
       "    <tr>\n",
       "      <th>5.0</th>\n",
       "      <td>0</td>\n",
       "      <td>11</td>\n",
       "    </tr>\n",
       "    <tr>\n",
       "      <th>6.0</th>\n",
       "      <td>5</td>\n",
       "      <td>64</td>\n",
       "    </tr>\n",
       "  </tbody>\n",
       "</table>\n",
       "</div>"
      ],
      "text/plain": [
       "Vulnerability Threshold  Above  Below\n",
       "Field:LPPN Score                     \n",
       "0.0                          2    157\n",
       "1.0                          0     29\n",
       "2.0                          0     14\n",
       "3.0                          0     26\n",
       "4.0                          2     23\n",
       "5.0                          0     11\n",
       "6.0                          5     64"
      ]
     },
     "execution_count": 20,
     "metadata": {},
     "output_type": "execute_result"
    }
   ],
   "source": [
    "pd.crosstab(result['Field:LPPN Score'],result['Vulnerability Threshold'],margins = False)"
   ]
  },
  {
   "cell_type": "code",
   "execution_count": 21,
   "metadata": {},
   "outputs": [
    {
     "data": {
      "text/plain": [
       "249"
      ]
     },
     "execution_count": 21,
     "metadata": {},
     "output_type": "execute_result"
    }
   ],
   "source": [
    "157+29+14+26+23"
   ]
  },
  {
   "cell_type": "code",
   "execution_count": 108,
   "metadata": {},
   "outputs": [
    {
     "data": {
      "text/plain": [
       "0.0    705\n",
       "1.0     15\n",
       "Name: Vulnerability Threshold, dtype: int64"
      ]
     },
     "execution_count": 108,
     "metadata": {},
     "output_type": "execute_result"
    }
   ],
   "source": [
    "result['Vulnerability Threshold'].value_counts()"
   ]
  },
  {
   "cell_type": "code",
   "execution_count": 117,
   "metadata": {},
   "outputs": [
    {
     "data": {
      "text/plain": [
       "0       NaN\n",
       "1       NaN\n",
       "2       0.0\n",
       "3       0.0\n",
       "4       NaN\n",
       "       ... \n",
       "1081    NaN\n",
       "1082    NaN\n",
       "1083    NaN\n",
       "1084    NaN\n",
       "1085    NaN\n",
       "Name: Field:Medical Needs Score, Length: 1086, dtype: float64"
      ]
     },
     "execution_count": 117,
     "metadata": {},
     "output_type": "execute_result"
    }
   ],
   "source": [
    "result['Field:Medical Needs Score']"
   ]
  },
  {
   "cell_type": "code",
   "execution_count": 120,
   "metadata": {},
   "outputs": [
    {
     "data": {
      "text/html": [
       "<div>\n",
       "<style scoped>\n",
       "    .dataframe tbody tr th:only-of-type {\n",
       "        vertical-align: middle;\n",
       "    }\n",
       "\n",
       "    .dataframe tbody tr th {\n",
       "        vertical-align: top;\n",
       "    }\n",
       "\n",
       "    .dataframe thead th {\n",
       "        text-align: right;\n",
       "    }\n",
       "</style>\n",
       "<table border=\"1\" class=\"dataframe\">\n",
       "  <thead>\n",
       "    <tr style=\"text-align: right;\">\n",
       "      <th></th>\n",
       "      <th>Vulnerability Threshold</th>\n",
       "      <th>Field:Medical Needs Score</th>\n",
       "      <th>Field:LPPN Score</th>\n",
       "    </tr>\n",
       "  </thead>\n",
       "  <tbody>\n",
       "    <tr>\n",
       "      <th>275</th>\n",
       "      <td>1.0</td>\n",
       "      <td>0.0</td>\n",
       "      <td>4.0</td>\n",
       "    </tr>\n",
       "    <tr>\n",
       "      <th>358</th>\n",
       "      <td>1.0</td>\n",
       "      <td>5.0</td>\n",
       "      <td>6.0</td>\n",
       "    </tr>\n",
       "    <tr>\n",
       "      <th>361</th>\n",
       "      <td>1.0</td>\n",
       "      <td>6.0</td>\n",
       "      <td>6.0</td>\n",
       "    </tr>\n",
       "    <tr>\n",
       "      <th>406</th>\n",
       "      <td>1.0</td>\n",
       "      <td>5.0</td>\n",
       "      <td>NaN</td>\n",
       "    </tr>\n",
       "    <tr>\n",
       "      <th>459</th>\n",
       "      <td>1.0</td>\n",
       "      <td>0.0</td>\n",
       "      <td>6.0</td>\n",
       "    </tr>\n",
       "    <tr>\n",
       "      <th>468</th>\n",
       "      <td>1.0</td>\n",
       "      <td>NaN</td>\n",
       "      <td>NaN</td>\n",
       "    </tr>\n",
       "    <tr>\n",
       "      <th>520</th>\n",
       "      <td>1.0</td>\n",
       "      <td>5.0</td>\n",
       "      <td>0.0</td>\n",
       "    </tr>\n",
       "    <tr>\n",
       "      <th>623</th>\n",
       "      <td>1.0</td>\n",
       "      <td>6.0</td>\n",
       "      <td>6.0</td>\n",
       "    </tr>\n",
       "    <tr>\n",
       "      <th>686</th>\n",
       "      <td>1.0</td>\n",
       "      <td>5.0</td>\n",
       "      <td>6.0</td>\n",
       "    </tr>\n",
       "    <tr>\n",
       "      <th>716</th>\n",
       "      <td>1.0</td>\n",
       "      <td>5.0</td>\n",
       "      <td>0.0</td>\n",
       "    </tr>\n",
       "    <tr>\n",
       "      <th>804</th>\n",
       "      <td>1.0</td>\n",
       "      <td>0.0</td>\n",
       "      <td>4.0</td>\n",
       "    </tr>\n",
       "    <tr>\n",
       "      <th>926</th>\n",
       "      <td>1.0</td>\n",
       "      <td>NaN</td>\n",
       "      <td>NaN</td>\n",
       "    </tr>\n",
       "    <tr>\n",
       "      <th>996</th>\n",
       "      <td>1.0</td>\n",
       "      <td>NaN</td>\n",
       "      <td>NaN</td>\n",
       "    </tr>\n",
       "    <tr>\n",
       "      <th>1017</th>\n",
       "      <td>1.0</td>\n",
       "      <td>NaN</td>\n",
       "      <td>NaN</td>\n",
       "    </tr>\n",
       "    <tr>\n",
       "      <th>1032</th>\n",
       "      <td>1.0</td>\n",
       "      <td>NaN</td>\n",
       "      <td>NaN</td>\n",
       "    </tr>\n",
       "  </tbody>\n",
       "</table>\n",
       "</div>"
      ],
      "text/plain": [
       "      Vulnerability Threshold  Field:Medical Needs Score  Field:LPPN Score\n",
       "275                       1.0                        0.0               4.0\n",
       "358                       1.0                        5.0               6.0\n",
       "361                       1.0                        6.0               6.0\n",
       "406                       1.0                        5.0               NaN\n",
       "459                       1.0                        0.0               6.0\n",
       "468                       1.0                        NaN               NaN\n",
       "520                       1.0                        5.0               0.0\n",
       "623                       1.0                        6.0               6.0\n",
       "686                       1.0                        5.0               6.0\n",
       "716                       1.0                        5.0               0.0\n",
       "804                       1.0                        0.0               4.0\n",
       "926                       1.0                        NaN               NaN\n",
       "996                       1.0                        NaN               NaN\n",
       "1017                      1.0                        NaN               NaN\n",
       "1032                      1.0                        NaN               NaN"
      ]
     },
     "execution_count": 120,
     "metadata": {},
     "output_type": "execute_result"
    }
   ],
   "source": [
    "result[result['Vulnerability Threshold']==1][['Vulnerability Threshold','Field:Medical Needs Score','Field:LPPN Score']]"
   ]
  },
  {
   "cell_type": "code",
   "execution_count": 22,
   "metadata": {},
   "outputs": [
    {
     "data": {
      "text/html": [
       "<div>\n",
       "<style scoped>\n",
       "    .dataframe tbody tr th:only-of-type {\n",
       "        vertical-align: middle;\n",
       "    }\n",
       "\n",
       "    .dataframe tbody tr th {\n",
       "        vertical-align: top;\n",
       "    }\n",
       "\n",
       "    .dataframe thead th {\n",
       "        text-align: right;\n",
       "    }\n",
       "</style>\n",
       "<table border=\"1\" class=\"dataframe\">\n",
       "  <thead>\n",
       "    <tr style=\"text-align: right;\">\n",
       "      <th>Vulnerability Threshold</th>\n",
       "      <th>Above</th>\n",
       "      <th>Below</th>\n",
       "    </tr>\n",
       "    <tr>\n",
       "      <th>Field:Medical Needs Score</th>\n",
       "      <th></th>\n",
       "      <th></th>\n",
       "    </tr>\n",
       "  </thead>\n",
       "  <tbody>\n",
       "    <tr>\n",
       "      <th>0.0</th>\n",
       "      <td>3</td>\n",
       "      <td>212</td>\n",
       "    </tr>\n",
       "    <tr>\n",
       "      <th>1.0</th>\n",
       "      <td>0</td>\n",
       "      <td>6</td>\n",
       "    </tr>\n",
       "    <tr>\n",
       "      <th>2.0</th>\n",
       "      <td>0</td>\n",
       "      <td>11</td>\n",
       "    </tr>\n",
       "    <tr>\n",
       "      <th>3.0</th>\n",
       "      <td>0</td>\n",
       "      <td>34</td>\n",
       "    </tr>\n",
       "    <tr>\n",
       "      <th>4.0</th>\n",
       "      <td>0</td>\n",
       "      <td>59</td>\n",
       "    </tr>\n",
       "    <tr>\n",
       "      <th>5.0</th>\n",
       "      <td>5</td>\n",
       "      <td>76</td>\n",
       "    </tr>\n",
       "    <tr>\n",
       "      <th>6.0</th>\n",
       "      <td>2</td>\n",
       "      <td>42</td>\n",
       "    </tr>\n",
       "  </tbody>\n",
       "</table>\n",
       "</div>"
      ],
      "text/plain": [
       "Vulnerability Threshold    Above  Below\n",
       "Field:Medical Needs Score              \n",
       "0.0                            3    212\n",
       "1.0                            0      6\n",
       "2.0                            0     11\n",
       "3.0                            0     34\n",
       "4.0                            0     59\n",
       "5.0                            5     76\n",
       "6.0                            2     42"
      ]
     },
     "execution_count": 22,
     "metadata": {},
     "output_type": "execute_result"
    }
   ],
   "source": [
    "pd.crosstab(result['Field:Medical Needs Score'],result['Vulnerability Threshold'],margins = False)"
   ]
  },
  {
   "cell_type": "code",
   "execution_count": 23,
   "metadata": {},
   "outputs": [
    {
     "data": {
      "text/plain": [
       "322"
      ]
     },
     "execution_count": 23,
     "metadata": {},
     "output_type": "execute_result"
    }
   ],
   "source": [
    "212+6+11+34+59"
   ]
  },
  {
   "cell_type": "code",
   "execution_count": 24,
   "metadata": {},
   "outputs": [
    {
     "data": {
      "text/html": [
       "<div>\n",
       "<style scoped>\n",
       "    .dataframe tbody tr th:only-of-type {\n",
       "        vertical-align: middle;\n",
       "    }\n",
       "\n",
       "    .dataframe tbody tr th {\n",
       "        vertical-align: top;\n",
       "    }\n",
       "\n",
       "    .dataframe thead th {\n",
       "        text-align: right;\n",
       "    }\n",
       "</style>\n",
       "<table border=\"1\" class=\"dataframe\">\n",
       "  <thead>\n",
       "    <tr style=\"text-align: right;\">\n",
       "      <th>process_days</th>\n",
       "      <th>False</th>\n",
       "      <th>True</th>\n",
       "    </tr>\n",
       "    <tr>\n",
       "      <th>Field:LPPN Score</th>\n",
       "      <th></th>\n",
       "      <th></th>\n",
       "    </tr>\n",
       "  </thead>\n",
       "  <tbody>\n",
       "    <tr>\n",
       "      <th>0.0</th>\n",
       "      <td>177</td>\n",
       "      <td>34</td>\n",
       "    </tr>\n",
       "    <tr>\n",
       "      <th>1.0</th>\n",
       "      <td>36</td>\n",
       "      <td>9</td>\n",
       "    </tr>\n",
       "    <tr>\n",
       "      <th>2.0</th>\n",
       "      <td>19</td>\n",
       "      <td>2</td>\n",
       "    </tr>\n",
       "    <tr>\n",
       "      <th>3.0</th>\n",
       "      <td>34</td>\n",
       "      <td>10</td>\n",
       "    </tr>\n",
       "    <tr>\n",
       "      <th>4.0</th>\n",
       "      <td>30</td>\n",
       "      <td>11</td>\n",
       "    </tr>\n",
       "    <tr>\n",
       "      <th>5.0</th>\n",
       "      <td>19</td>\n",
       "      <td>1</td>\n",
       "    </tr>\n",
       "    <tr>\n",
       "      <th>6.0</th>\n",
       "      <td>106</td>\n",
       "      <td>38</td>\n",
       "    </tr>\n",
       "  </tbody>\n",
       "</table>\n",
       "</div>"
      ],
      "text/plain": [
       "process_days      False  True \n",
       "Field:LPPN Score              \n",
       "0.0                 177     34\n",
       "1.0                  36      9\n",
       "2.0                  19      2\n",
       "3.0                  34     10\n",
       "4.0                  30     11\n",
       "5.0                  19      1\n",
       "6.0                 106     38"
      ]
     },
     "execution_count": 24,
     "metadata": {},
     "output_type": "execute_result"
    }
   ],
   "source": [
    "pd.crosstab(result['Field:LPPN Score'],result['process_days']>1,margins = False)"
   ]
  },
  {
   "cell_type": "code",
   "execution_count": 25,
   "metadata": {},
   "outputs": [
    {
     "data": {
      "text/plain": [
       "66"
      ]
     },
     "execution_count": 25,
     "metadata": {},
     "output_type": "execute_result"
    }
   ],
   "source": [
    "34+9+2+10+11"
   ]
  },
  {
   "cell_type": "code",
   "execution_count": 26,
   "metadata": {},
   "outputs": [
    {
     "data": {
      "text/html": [
       "<div>\n",
       "<style scoped>\n",
       "    .dataframe tbody tr th:only-of-type {\n",
       "        vertical-align: middle;\n",
       "    }\n",
       "\n",
       "    .dataframe tbody tr th {\n",
       "        vertical-align: top;\n",
       "    }\n",
       "\n",
       "    .dataframe thead th {\n",
       "        text-align: right;\n",
       "    }\n",
       "</style>\n",
       "<table border=\"1\" class=\"dataframe\">\n",
       "  <thead>\n",
       "    <tr style=\"text-align: right;\">\n",
       "      <th>process_days</th>\n",
       "      <th>False</th>\n",
       "      <th>True</th>\n",
       "    </tr>\n",
       "    <tr>\n",
       "      <th>Field:Medical Needs Score</th>\n",
       "      <th></th>\n",
       "      <th></th>\n",
       "    </tr>\n",
       "  </thead>\n",
       "  <tbody>\n",
       "    <tr>\n",
       "      <th>0.0</th>\n",
       "      <td>265</td>\n",
       "      <td>44</td>\n",
       "    </tr>\n",
       "    <tr>\n",
       "      <th>1.0</th>\n",
       "      <td>8</td>\n",
       "      <td>3</td>\n",
       "    </tr>\n",
       "    <tr>\n",
       "      <th>2.0</th>\n",
       "      <td>9</td>\n",
       "      <td>5</td>\n",
       "    </tr>\n",
       "    <tr>\n",
       "      <th>3.0</th>\n",
       "      <td>41</td>\n",
       "      <td>7</td>\n",
       "    </tr>\n",
       "    <tr>\n",
       "      <th>4.0</th>\n",
       "      <td>71</td>\n",
       "      <td>17</td>\n",
       "    </tr>\n",
       "    <tr>\n",
       "      <th>5.0</th>\n",
       "      <td>120</td>\n",
       "      <td>27</td>\n",
       "    </tr>\n",
       "    <tr>\n",
       "      <th>6.0</th>\n",
       "      <td>58</td>\n",
       "      <td>28</td>\n",
       "    </tr>\n",
       "  </tbody>\n",
       "</table>\n",
       "</div>"
      ],
      "text/plain": [
       "process_days               False  True \n",
       "Field:Medical Needs Score              \n",
       "0.0                          265     44\n",
       "1.0                            8      3\n",
       "2.0                            9      5\n",
       "3.0                           41      7\n",
       "4.0                           71     17\n",
       "5.0                          120     27\n",
       "6.0                           58     28"
      ]
     },
     "execution_count": 26,
     "metadata": {},
     "output_type": "execute_result"
    }
   ],
   "source": [
    "pd.crosstab(result['Field:Medical Needs Score'],result['process_days']>1,margins = False)"
   ]
  },
  {
   "cell_type": "code",
   "execution_count": 27,
   "metadata": {},
   "outputs": [
    {
     "data": {
      "text/plain": [
       "76"
      ]
     },
     "execution_count": 27,
     "metadata": {},
     "output_type": "execute_result"
    }
   ],
   "source": [
    "44+3+5+7+17"
   ]
  },
  {
   "cell_type": "markdown",
   "metadata": {},
   "source": [
    "### Pearsons"
   ]
  },
  {
   "cell_type": "code",
   "execution_count": 28,
   "metadata": {},
   "outputs": [
    {
     "data": {
      "text/plain": [
       "(0.08391809162662375, 0.06262573901534098)"
      ]
     },
     "execution_count": 28,
     "metadata": {},
     "output_type": "execute_result"
    }
   ],
   "source": [
    "medi_score = result[['Field:Medical Needs Score','process_days']].dropna()\n",
    "pearsonr(medi_score['Field:Medical Needs Score'],medi_score['process_days'])"
   ]
  },
  {
   "cell_type": "code",
   "execution_count": 29,
   "metadata": {},
   "outputs": [],
   "source": [
    "def find_pearson_time(var):\n",
    "    df = result[[var,'process_days']].dropna()\n",
    "    p = pearsonr(df[var],df['process_days'])\n",
    "#     print(var)\n",
    "#     print(\"PEARSON: {:.5f} p-value: {:.5f}\".format(p[0],p[1]))\n",
    "    return(p[0])\n",
    "    "
   ]
  },
  {
   "cell_type": "code",
   "execution_count": 30,
   "metadata": {},
   "outputs": [],
   "source": [
    "def find_pearson_thresh(var):\n",
    "    df = result[[var,'Vulnerability Threshold']].dropna()\n",
    "    p = pearsonr(df[var],df['Vulnerability Threshold'])\n",
    "#     print(var)\n",
    "#     print(\"PEARSON: {:.5f} p-value: {:.5f}\".format(p[0],p[1]))\n",
    "    return(p[0])\n",
    "    "
   ]
  },
  {
   "cell_type": "code",
   "execution_count": 31,
   "metadata": {},
   "outputs": [
    {
     "data": {
      "text/plain": [
       "0.08391809162662375"
      ]
     },
     "execution_count": 31,
     "metadata": {},
     "output_type": "execute_result"
    }
   ],
   "source": [
    "find_pearson_time('Field:Medical Needs Score')"
   ]
  },
  {
   "cell_type": "code",
   "execution_count": 32,
   "metadata": {},
   "outputs": [],
   "source": [
    "result[' Mona Follow up Needed'].replace(('Yes', 'No'), (1, 0), inplace=True)\n",
    "result['Mona Case Type Identification'].replace(('Accurate', 'Inaccurate'), (1, 0), inplace=True)\n",
    "result['Screening Stage'].replace(('Screening Complete', 'Screening'), (1, 0), inplace=True)\n",
    "result['In IRAP Process'].replace(('Yes', 'No'), (1, 0), inplace=True)\n",
    "result['First Referral'].replace(('Yes', 'No'), (1, 0), inplace=True)\n",
    "result[\"Flags\"].fillna(\"responsive\",inplace=True)\n",
    "result['Flags'].replace(('Unresponsive', 'responsive'), (1, 0), inplace=True)"
   ]
  },
  {
   "cell_type": "code",
   "execution_count": 34,
   "metadata": {},
   "outputs": [],
   "source": [
    "result[\"Vulnerability Threshold\"].replace(('Above', 'Below'), (1, 0), inplace=True)"
   ]
  },
  {
   "cell_type": "code",
   "execution_count": 35,
   "metadata": {},
   "outputs": [
    {
     "data": {
      "text/plain": [
       "[(0.4236875946096612, ' Mona Follow up Needed'),\n",
       " (0.2580631379674056, 'Flags'),\n",
       " (0.08391809162662375, 'Field:Medical Needs Score'),\n",
       " (0.06058520593503717, 'Field:LPPN Score'),\n",
       " (-0.046758139653815416, 'Mona Case Type Identification'),\n",
       " (0.04536128784220897, 'First Referral'),\n",
       " (0.020944797294969925, 'Screening Stage'),\n",
       " (-0.020920626497034474, 'In IRAP Process')]"
      ]
     },
     "execution_count": 35,
     "metadata": {},
     "output_type": "execute_result"
    }
   ],
   "source": [
    "pearson_time = []\n",
    "for i in [' Mona Follow up Needed', 'Mona Case Type Identification',\n",
    "    'Screening Stage','In IRAP Process','First Referral','Flags',\n",
    "         'Field:Medical Needs Score','Field:LPPN Score']:\n",
    "    pearson_time.append((find_pearson_time(i),i))\n",
    "sorted(pearson_time, key=lambda a: abs(a[0]), reverse=True)"
   ]
  },
  {
   "cell_type": "code",
   "execution_count": 36,
   "metadata": {},
   "outputs": [
    {
     "data": {
      "text/plain": [
       "[(0.27644327266750335, ' Mona Follow up Needed'),\n",
       " (-0.15864057253285996, 'Screening Stage'),\n",
       " (0.14373876551579284, 'Field:LPPN Score'),\n",
       " (0.0890382212477986, 'Field:Medical Needs Score'),\n",
       " (0.045546799524256436, 'First Referral'),\n",
       " (0.025451682703836243, 'Flags'),\n",
       " (0.021201727320569137, 'Mona Case Type Identification'),\n",
       " (-0.017310989648230364, 'In IRAP Process')]"
      ]
     },
     "execution_count": 36,
     "metadata": {},
     "output_type": "execute_result"
    }
   ],
   "source": [
    "pearson_thresh = []\n",
    "for i in [' Mona Follow up Needed', 'Mona Case Type Identification',\n",
    "    'Screening Stage','In IRAP Process','First Referral','Flags',\n",
    "          'Field:Medical Needs Score','Field:LPPN Score']:\n",
    "    pearson_thresh.append((find_pearson_thresh(i),i))\n",
    "sorted(pearson_thresh, key=lambda a: abs(a[0]), reverse=True)"
   ]
  },
  {
   "cell_type": "code",
   "execution_count": 37,
   "metadata": {},
   "outputs": [
    {
     "data": {
      "text/plain": [
       "1    870\n",
       "0    216\n",
       "Name: Screening Stage, dtype: int64"
      ]
     },
     "execution_count": 37,
     "metadata": {},
     "output_type": "execute_result"
    }
   ],
   "source": [
    "result['Screening Stage'].value_counts()"
   ]
  },
  {
   "cell_type": "code",
   "execution_count": 38,
   "metadata": {},
   "outputs": [
    {
     "data": {
      "text/plain": [
       "0.0    423\n",
       "1.0    200\n",
       "Name:  Mona Follow up Needed, dtype: int64"
      ]
     },
     "execution_count": 38,
     "metadata": {},
     "output_type": "execute_result"
    }
   ],
   "source": [
    "result[' Mona Follow up Needed'].value_counts()"
   ]
  },
  {
   "cell_type": "markdown",
   "metadata": {},
   "source": [
    "### Regression"
   ]
  },
  {
   "cell_type": "code",
   "execution_count": 39,
   "metadata": {},
   "outputs": [],
   "source": [
    "from sklearn.ensemble import RandomForestClassifier\n",
    "from sklearn.linear_model import LogisticRegression"
   ]
  },
  {
   "cell_type": "code",
   "execution_count": 41,
   "metadata": {},
   "outputs": [],
   "source": [
    "drop_na_result = result[[' Mona Follow up Needed', 'Mona Case Type Identification',\n",
    "    'Screening Stage','In IRAP Process','First Referral','Flags',\n",
    "          'Field:Medical Needs Score','Field:LPPN Score',\"Vulnerability Threshold\"]]"
   ]
  },
  {
   "cell_type": "code",
   "execution_count": 42,
   "metadata": {},
   "outputs": [],
   "source": [
    "drop_na_result = drop_na_result.dropna()"
   ]
  },
  {
   "cell_type": "code",
   "execution_count": 43,
   "metadata": {},
   "outputs": [],
   "source": [
    "x = drop_na_result[[' Mona Follow up Needed', 'Mona Case Type Identification',\n",
    "    'Screening Stage','In IRAP Process','First Referral','Flags',\n",
    "          'Field:Medical Needs Score','Field:LPPN Score']]"
   ]
  },
  {
   "cell_type": "code",
   "execution_count": 44,
   "metadata": {},
   "outputs": [],
   "source": [
    "y = drop_na_result[\"Vulnerability Threshold\"]"
   ]
  },
  {
   "cell_type": "code",
   "execution_count": 45,
   "metadata": {},
   "outputs": [
    {
     "data": {
      "text/plain": [
       "LogisticRegression(C=1.0, class_weight=None, dual=False, fit_intercept=True,\n",
       "                   intercept_scaling=1, l1_ratio=None, max_iter=100,\n",
       "                   multi_class='warn', n_jobs=None, penalty='l2',\n",
       "                   random_state=None, solver='lbfgs', tol=0.0001, verbose=0,\n",
       "                   warm_start=False)"
      ]
     },
     "execution_count": 45,
     "metadata": {},
     "output_type": "execute_result"
    }
   ],
   "source": [
    "logi = LogisticRegression(solver='lbfgs')\n",
    "logi.fit(x,y)"
   ]
  },
  {
   "cell_type": "markdown",
   "metadata": {},
   "source": [
    "#### Logistic"
   ]
  },
  {
   "cell_type": "code",
   "execution_count": 206,
   "metadata": {},
   "outputs": [
    {
     "data": {
      "text/plain": [
       "[(0.4236875946096612, ' Mona Follow up Needed'),\n",
       " (0.2580631379674056, 'Flags'),\n",
       " (0.08391809162662375, 'Field:Medical Needs Score'),\n",
       " (0.06058520593503717, 'Field:LPPN Score'),\n",
       " (-0.046758139653815416, 'Mona Case Type Identification'),\n",
       " (0.04536128784220897, 'First Referral'),\n",
       " (0.020944797294969925, 'Screening Stage'),\n",
       " (-0.020920626497034474, 'In IRAP Process')]"
      ]
     },
     "execution_count": 206,
     "metadata": {},
     "output_type": "execute_result"
    }
   ],
   "source": [
    "sorted(pearson_time, key=lambda a: abs(a[0]), reverse=True)"
   ]
  },
  {
   "cell_type": "code",
   "execution_count": 205,
   "metadata": {},
   "outputs": [
    {
     "data": {
      "text/plain": [
       "[(2.0570450691636357, ' Mona Follow up Needed'),\n",
       " (0.6532170000580083, 'Field:LPPN Score'),\n",
       " (-0.6288056572907731, 'Screening Stage'),\n",
       " (0.5521080481449168, 'First Referral'),\n",
       " (-0.19907460727897305, 'Flags'),\n",
       " (-0.09560582529265732, 'Field:Medical Needs Score'),\n",
       " (0.004447081764789054, 'Mona Case Type Identification'),\n",
       " (-0.001476896612342224, 'In IRAP Process')]"
      ]
     },
     "execution_count": 205,
     "metadata": {},
     "output_type": "execute_result"
    }
   ],
   "source": [
    "sorted(list(zip(logi.coef_[0],x.columns)), key=lambda a: abs(a[0]), reverse=True)"
   ]
  },
  {
   "cell_type": "markdown",
   "metadata": {},
   "source": [
    "#### Random Forest"
   ]
  },
  {
   "cell_type": "code",
   "execution_count": 48,
   "metadata": {
    "scrolled": true
   },
   "outputs": [
    {
     "name": "stderr",
     "output_type": "stream",
     "text": [
      "/Users/xiaoxiangma/anaconda3/lib/python3.7/site-packages/sklearn/ensemble/forest.py:245: FutureWarning: The default value of n_estimators will change from 10 in version 0.20 to 100 in 0.22.\n",
      "  \"10 in version 0.20 to 100 in 0.22.\", FutureWarning)\n"
     ]
    },
    {
     "data": {
      "text/plain": [
       "[(0.3069545455367809, ' Mona Follow up Needed'),\n",
       " (0.2893518164885944, 'Field:LPPN Score'),\n",
       " (0.15839898690822624, 'Field:Medical Needs Score'),\n",
       " (0.12329204556483789, 'Screening Stage'),\n",
       " (0.1082091723407103, 'First Referral'),\n",
       " (0.013293903121875787, 'Flags'),\n",
       " (0.0002633559663119792, 'In IRAP Process'),\n",
       " (0.00023617407266255213, 'Mona Case Type Identification')]"
      ]
     },
     "execution_count": 48,
     "metadata": {},
     "output_type": "execute_result"
    }
   ],
   "source": [
    "rf = RandomForestClassifier()\n",
    "rf.fit(x,y)\n",
    "sorted(list(zip(rf.feature_importances_,x.columns)),reverse=True)"
   ]
  },
  {
   "cell_type": "markdown",
   "metadata": {},
   "source": [
    "### Week 2"
   ]
  },
  {
   "cell_type": "markdown",
   "metadata": {},
   "source": [
    "### Pearsons"
   ]
  },
  {
   "cell_type": "code",
   "execution_count": 281,
   "metadata": {},
   "outputs": [
    {
     "data": {
      "text/plain": [
       "(0.145631662265842, 0.0008082705334755726)"
      ]
     },
     "execution_count": 281,
     "metadata": {},
     "output_type": "execute_result"
    }
   ],
   "source": [
    "corr = full[['Field:Medical Needs Score','Field:LPPN Score']].dropna()\n",
    "pearsonr(corr['Field:Medical Needs Score'],corr['Field:LPPN Score'])"
   ]
  },
  {
   "cell_type": "code",
   "execution_count": 285,
   "metadata": {},
   "outputs": [
    {
     "data": {
      "image/png": "[encoded data removed]",
      "text/plain": [
       "<Figure size 432x288 with 1 Axes>"
      ]
     },
     "metadata": {
      "needs_background": "light"
     },
     "output_type": "display_data"
    }
   ],
   "source": [
    "plt.scatter(corr['Field:Medical Needs Score'],corr['Field:LPPN Score'],alpha=0.1)\n",
    "plt.show()"
   ]
  },
  {
   "cell_type": "code",
   "execution_count": 299,
   "metadata": {},
   "outputs": [
    {
     "data": {
      "text/plain": [
       "(0.10597982848250827, 0.004848926618342282)"
      ]
     },
     "execution_count": 299,
     "metadata": {},
     "output_type": "execute_result"
    }
   ],
   "source": [
    "corr2 = full[['Vulnerability Threshold','process_days']].dropna()\n",
    "pearsonr(corr2['Vulnerability Threshold'],corr2['process_days'])"
   ]
  },
  {
   "cell_type": "code",
   "execution_count": 300,
   "metadata": {},
   "outputs": [
    {
     "data": {
      "image/png": "[encoded data removed]",
      "text/plain": [
       "<Figure size 432x288 with 1 Axes>"
      ]
     },
     "metadata": {
      "needs_background": "light"
     },
     "output_type": "display_data"
    }
   ],
   "source": [
    "plt.scatter(corr2['Vulnerability Threshold'],corr2['process_days'],alpha=0.1)\n",
    "plt.show()"
   ]
  },
  {
   "cell_type": "code",
   "execution_count": 280,
   "metadata": {},
   "outputs": [],
   "source": [
    "def find_pearson_time(var,df_name):\n",
    "    df = df_name[[var,'process_days']].dropna()\n",
    "    p = pearsonr(df[var],df['process_days'])\n",
    "#     print(var)\n",
    "#     print(\"PEARSON: {:.5f} p-value: {:.5f}\".format(p[0],p[1]))\n",
    "    return(p[0])\n",
    "    "
   ]
  },
  {
   "cell_type": "code",
   "execution_count": 264,
   "metadata": {},
   "outputs": [],
   "source": [
    "def find_pearson_thresh(var,df_name):\n",
    "    df = df_name[[var,'Vulnerability Threshold']].dropna()\n",
    "    p = pearsonr(df[var],df['Vulnerability Threshold'])\n",
    "#     print(var)\n",
    "#     print(\"PEARSON: {:.5f} p-value: {:.5f}\".format(p[0],p[1]))\n",
    "    return(p[0])\n",
    "    "
   ]
  },
  {
   "cell_type": "code",
   "execution_count": 265,
   "metadata": {},
   "outputs": [
    {
     "data": {
      "text/plain": [
       "-0.0010530542277671293"
      ]
     },
     "execution_count": 265,
     "metadata": {},
     "output_type": "execute_result"
    }
   ],
   "source": [
    "find_pearson_time('Field:Medical Needs Score',multiple_vars)"
   ]
  },
  {
   "cell_type": "code",
   "execution_count": 266,
   "metadata": {},
   "outputs": [
    {
     "data": {
      "text/plain": [
       "Index(['Vulnerability Threshold', 'process_days', 'Field:Age', 'Field:Gender',\n",
       "       'Field:LPPN Score', 'Field:Medical Condition Assessment',\n",
       "       'Field:Medical Condition Score', 'Field:Medical Condition 1 Score',\n",
       "       'Field:Medical Condition 2 Score', 'Field:Medical Condition 3 Score',\n",
       "       'Field:Medical Needs Score', 'Field:Years in Current Country',\n",
       "       'nationality_Iraqi', 'nationality_Syrian', 'curr_country_Egypt',\n",
       "       'curr_country_Iraq', 'curr_country_Lebanon',\n",
       "       'curr_country_Saudi Arabia', 'curr_country_Syria',\n",
       "       'curr_country_Turkey'],\n",
       "      dtype='object')"
      ]
     },
     "execution_count": 266,
     "metadata": {},
     "output_type": "execute_result"
    }
   ],
   "source": [
    "multiple_vars.columns"
   ]
  },
  {
   "cell_type": "code",
   "execution_count": 267,
   "metadata": {},
   "outputs": [
    {
     "data": {
      "text/plain": [
       "[(-0.15778867035014982, 'Field:Medical Condition 3 Score'),\n",
       " (-0.09219787124024525, 'nationality_Syrian'),\n",
       " (0.09219787124024524, 'nationality_Iraqi'),\n",
       " (0.07744214274485131, 'Field:Age'),\n",
       " (-0.07491516830713747, 'Field:Gender'),\n",
       " (-0.07046126861308281, 'Field:Medical Condition 2 Score'),\n",
       " (-0.028167119576418723, 'Field:Medical Condition Score'),\n",
       " (0.027418906064279467, 'Vulnerability Threshold'),\n",
       " (0.027327953800019122, 'curr_country_Iraq'),\n",
       " (-0.021002557851901922, 'Field:LPPN Score'),\n",
       " (-0.01969411004653232, 'curr_country_Lebanon'),\n",
       " (-0.017485336070558036, 'Field:Years in Current Country'),\n",
       " (-0.015430236032506305, 'curr_country_Saudi Arabia'),\n",
       " (0.01142110267449491, 'curr_country_Egypt'),\n",
       " (0.00377274304441131, 'Field:Medical Condition Assessment'),\n",
       " (0.0035519399789179923, 'Field:Medical Condition 1 Score'),\n",
       " (-0.0010530542277671293, 'Field:Medical Needs Score'),\n",
       " (nan, 'curr_country_Syria'),\n",
       " (0.013278086727270742, 'curr_country_Turkey')]"
      ]
     },
     "execution_count": 267,
     "metadata": {},
     "output_type": "execute_result"
    }
   ],
   "source": [
    "pearson_time = []\n",
    "for i in ['Vulnerability Threshold', 'Field:Age', 'Field:Gender',\n",
    "       'Field:LPPN Score', 'Field:Medical Condition Assessment',\n",
    "       'Field:Medical Condition Score', 'Field:Medical Condition 1 Score',\n",
    "       'Field:Medical Condition 2 Score', 'Field:Medical Condition 3 Score',\n",
    "       'Field:Medical Needs Score', 'Field:Years in Current Country',\n",
    "       'nationality_Iraqi', 'nationality_Syrian', 'curr_country_Egypt',\n",
    "       'curr_country_Iraq', 'curr_country_Lebanon',\n",
    "       'curr_country_Saudi Arabia', 'curr_country_Syria',\n",
    "       'curr_country_Turkey']:\n",
    "    pearson_time.append((find_pearson_time(i,multiple_vars),i))\n",
    "sorted(pearson_time, key=lambda a: abs(a[0]), reverse=True)"
   ]
  },
  {
   "cell_type": "code",
   "execution_count": 268,
   "metadata": {},
   "outputs": [
    {
     "data": {
      "text/plain": [
       "[(0.15710254706878385, 'Field:Medical Condition 1 Score'),\n",
       " (0.14334777471842738, 'Field:Medical Needs Score'),\n",
       " (0.1420073515700646, 'Field:Medical Condition Score'),\n",
       " (0.13878197176032514, 'Field:LPPN Score'),\n",
       " (0.11943767905289011, 'Field:Medical Condition Assessment'),\n",
       " (-0.08927314963459562, 'Field:Gender'),\n",
       " (0.0707802285856229, 'curr_country_Lebanon'),\n",
       " (-0.03042903097250922, 'curr_country_Egypt'),\n",
       " (0.027418906064279467, 'process_days'),\n",
       " (0.018534466388765825, 'Field:Medical Condition 3 Score'),\n",
       " (-0.017352640209845116, 'nationality_Iraqi'),\n",
       " (0.017352640209845113, 'nationality_Syrian'),\n",
       " (-0.012246700089632898, 'Field:Years in Current Country'),\n",
       " (-0.012232930723626231, 'curr_country_Iraq'),\n",
       " (-0.012232930723626231, 'curr_country_Saudi Arabia'),\n",
       " (0.01119790333008934, 'Field:Age'),\n",
       " (0.008618023754328089, 'Field:Medical Condition 2 Score'),\n",
       " (nan, 'curr_country_Syria'),\n",
       " (-0.05815821362113486, 'curr_country_Turkey')]"
      ]
     },
     "execution_count": 268,
     "metadata": {},
     "output_type": "execute_result"
    }
   ],
   "source": [
    "pearson_thresh = []\n",
    "for i in ['process_days', 'Field:Age', 'Field:Gender',\n",
    "       'Field:LPPN Score', 'Field:Medical Condition Assessment',\n",
    "       'Field:Medical Condition Score', 'Field:Medical Condition 1 Score',\n",
    "       'Field:Medical Condition 2 Score', 'Field:Medical Condition 3 Score',\n",
    "       'Field:Medical Needs Score', 'Field:Years in Current Country',\n",
    "       'nationality_Iraqi', 'nationality_Syrian', 'curr_country_Egypt',\n",
    "       'curr_country_Iraq', 'curr_country_Lebanon',\n",
    "       'curr_country_Saudi Arabia', 'curr_country_Syria',\n",
    "       'curr_country_Turkey']:\n",
    "    pearson_thresh.append((find_pearson_thresh(i,multiple_vars),i))\n",
    "sorted(pearson_thresh, key=lambda a: abs(a[0]), reverse=True)"
   ]
  },
  {
   "cell_type": "markdown",
   "metadata": {},
   "source": [
    "### Regression"
   ]
  },
  {
   "cell_type": "code",
   "execution_count": 272,
   "metadata": {},
   "outputs": [],
   "source": [
    "x = multiple_vars.drop('Vulnerability Threshold',axis=1)"
   ]
  },
  {
   "cell_type": "code",
   "execution_count": 273,
   "metadata": {},
   "outputs": [],
   "source": [
    "y = multiple_vars['Vulnerability Threshold']"
   ]
  },
  {
   "cell_type": "code",
   "execution_count": 286,
   "metadata": {},
   "outputs": [],
   "source": [
    "x2 = multiple_vars.drop('process_days',axis=1)"
   ]
  },
  {
   "cell_type": "code",
   "execution_count": 287,
   "metadata": {},
   "outputs": [],
   "source": [
    "y2 = multiple_vars['process_days']"
   ]
  },
  {
   "cell_type": "code",
   "execution_count": 295,
   "metadata": {},
   "outputs": [
    {
     "name": "stderr",
     "output_type": "stream",
     "text": [
      "/Users/xiaoxiangma/anaconda3/lib/python3.7/site-packages/sklearn/linear_model/logistic.py:469: FutureWarning: Default multi_class will be changed to 'auto' in 0.22. Specify the multi_class option to silence this warning.\n",
      "  \"this warning.\", FutureWarning)\n"
     ]
    },
    {
     "data": {
      "text/plain": [
       "LogisticRegression(C=1.0, class_weight=None, dual=False, fit_intercept=True,\n",
       "                   intercept_scaling=1, l1_ratio=None, max_iter=10000,\n",
       "                   multi_class='warn', n_jobs=None, penalty='l2',\n",
       "                   random_state=None, solver='lbfgs', tol=0.0001, verbose=0,\n",
       "                   warm_start=False)"
      ]
     },
     "execution_count": 295,
     "metadata": {},
     "output_type": "execute_result"
    }
   ],
   "source": [
    "logi = LogisticRegression(solver='lbfgs',max_iter=10000)\n",
    "logi.fit(x,y)\n",
    "logi2 = LogisticRegression(solver='lbfgs',max_iter=10000)\n",
    "logi2.fit(x2,y2)"
   ]
  },
  {
   "cell_type": "markdown",
   "metadata": {},
   "source": [
    "#### Logistic (vulnerability)"
   ]
  },
  {
   "cell_type": "code",
   "execution_count": 296,
   "metadata": {},
   "outputs": [
    {
     "data": {
      "text/plain": [
       "[(0.5370287041649097, 'Field:Medical Condition 1 Score'),\n",
       " (-0.5354494898562268, 'Field:Gender'),\n",
       " (0.5291429303787296, 'curr_country_Lebanon'),\n",
       " (-0.4160068547864295, 'curr_country_Turkey'),\n",
       " (0.27938619235564205, 'Field:Medical Needs Score'),\n",
       " (0.2575206231757183, 'Field:LPPN Score'),\n",
       " (-0.20429698203002533, 'Field:Years in Current Country'),\n",
       " (0.18877635053458827, 'Field:Medical Condition Assessment'),\n",
       " (-0.1362579232129215, 'Field:Medical Condition 2 Score'),\n",
       " (-0.06676559420121649, 'curr_country_Egypt'),\n",
       " (-0.04550608062339327, 'curr_country_Saudi Arabia'),\n",
       " (0.03992731894282834, 'Field:Age'),\n",
       " (0.036135717076509644, 'Field:Medical Condition Score'),\n",
       " (-0.0262080873922685, 'nationality_Iraqi'),\n",
       " (0.02470586539297308, 'nationality_Syrian'),\n",
       " (-0.008866116140027252, 'Field:Medical Condition 3 Score'),\n",
       " (-0.002366622766983081, 'curr_country_Iraq'),\n",
       " (0.0003940831222931172, 'process_days'),\n",
       " (0.0, 'curr_country_Syria')]"
      ]
     },
     "execution_count": 296,
     "metadata": {},
     "output_type": "execute_result"
    }
   ],
   "source": [
    "sorted(list(zip(logi.coef_[0],x.columns)), key=lambda a: abs(a[0]), reverse=True)"
   ]
  },
  {
   "cell_type": "markdown",
   "metadata": {},
   "source": [
    "#### Logistic (process days)"
   ]
  },
  {
   "cell_type": "code",
   "execution_count": 297,
   "metadata": {},
   "outputs": [
    {
     "data": {
      "text/plain": [
       "[(0.5876506522850101, 'Field:Medical Condition 2 Score'),\n",
       " (0.5652939265783501, 'Field:Medical Condition 3 Score'),\n",
       " (0.41703909604328154, 'Field:Medical Condition Score'),\n",
       " (0.40395226439792997, 'Field:Medical Condition 1 Score'),\n",
       " (0.38415017537640184, 'Field:LPPN Score'),\n",
       " (0.25497262727072983, 'Field:Medical Needs Score'),\n",
       " (0.17518580902744232, 'Field:Gender'),\n",
       " (-0.12258092618474489, 'Field:Age'),\n",
       " (0.0999647383985695, 'Field:Medical Condition Assessment'),\n",
       " (-0.05378909377216948, 'Vulnerability Threshold'),\n",
       " (0.028104830351502682, 'curr_country_Lebanon'),\n",
       " (0.023890273518725247, 'nationality_Syrian'),\n",
       " (-0.0030297015019375376, 'curr_country_Egypt'),\n",
       " (-0.0019660810371090933, 'curr_country_Turkey'),\n",
       " (-0.0011226049362061757, 'nationality_Iraqi'),\n",
       " (-0.0003099281826780746, 'curr_country_Saudi Arabia'),\n",
       " (-0.0001450041603158089, 'Field:Years in Current Country'),\n",
       " (-3.1451047318109894e-05, 'curr_country_Iraq'),\n",
       " (0.0, 'curr_country_Syria')]"
      ]
     },
     "execution_count": 297,
     "metadata": {},
     "output_type": "execute_result"
    }
   ],
   "source": [
    "sorted(list(zip(logi2.coef_[0],x2.columns)), key=lambda a: abs(a[0]), reverse=True)"
   ]
  },
  {
   "cell_type": "markdown",
   "metadata": {},
   "source": [
    "#### Random Forest  (vulnerability)"
   ]
  },
  {
   "cell_type": "code",
   "execution_count": 293,
   "metadata": {
    "scrolled": false
   },
   "outputs": [
    {
     "name": "stderr",
     "output_type": "stream",
     "text": [
      "/Users/xiaoxiangma/anaconda3/lib/python3.7/site-packages/sklearn/ensemble/forest.py:245: FutureWarning: The default value of n_estimators will change from 10 in version 0.20 to 100 in 0.22.\n",
      "  \"10 in version 0.20 to 100 in 0.22.\", FutureWarning)\n"
     ]
    },
    {
     "data": {
      "text/plain": [
       "[(0.35334497788873376, 'process_days'),\n",
       " (0.17307161955469533, 'Field:Medical Condition 2 Score'),\n",
       " (0.10802252512386264, 'Field:Years in Current Country'),\n",
       " (0.08539048896992175, 'Field:Gender'),\n",
       " (0.0831131102146709, 'Field:Medical Condition 1 Score'),\n",
       " (0.062396745988906654, 'Field:Age'),\n",
       " (0.05218620272014954, 'Field:LPPN Score'),\n",
       " (0.025778152461598945, 'Field:Medical Condition Score'),\n",
       " (0.024307970135570074, 'Field:Medical Condition 3 Score'),\n",
       " (0.023579659789859528, 'Field:Medical Needs Score'),\n",
       " (0.006325255296448718, 'Field:Medical Condition Assessment'),\n",
       " (0.001586209532545969, 'nationality_Iraqi'),\n",
       " (0.0008970823230361939, 'curr_country_Turkey'),\n",
       " (0.0, 'nationality_Syrian'),\n",
       " (0.0, 'curr_country_Syria'),\n",
       " (0.0, 'curr_country_Saudi Arabia'),\n",
       " (0.0, 'curr_country_Lebanon'),\n",
       " (0.0, 'curr_country_Iraq'),\n",
       " (0.0, 'curr_country_Egypt')]"
      ]
     },
     "execution_count": 293,
     "metadata": {},
     "output_type": "execute_result"
    }
   ],
   "source": [
    "rf = RandomForestClassifier()\n",
    "rf.fit(x,y)\n",
    "sorted(list(zip(rf.feature_importances_,x.columns)),reverse=True)"
   ]
  },
  {
   "cell_type": "markdown",
   "metadata": {},
   "source": [
    "#### Random Forest  (process days)"
   ]
  },
  {
   "cell_type": "code",
   "execution_count": 298,
   "metadata": {
    "scrolled": false
   },
   "outputs": [
    {
     "name": "stderr",
     "output_type": "stream",
     "text": [
      "/Users/xiaoxiangma/anaconda3/lib/python3.7/site-packages/sklearn/ensemble/forest.py:245: FutureWarning: The default value of n_estimators will change from 10 in version 0.20 to 100 in 0.22.\n",
      "  \"10 in version 0.20 to 100 in 0.22.\", FutureWarning)\n"
     ]
    },
    {
     "data": {
      "text/plain": [
       "[(0.21401559684589086, 'Field:Age'),\n",
       " (0.12743336366168043, 'Field:Years in Current Country'),\n",
       " (0.11432421659217874, 'Field:LPPN Score'),\n",
       " (0.08951857782908627, 'Field:Medical Condition 1 Score'),\n",
       " (0.07428072828649229, 'Field:Medical Condition 2 Score'),\n",
       " (0.05807542231843758, 'Field:Medical Needs Score'),\n",
       " (0.05513787617595824, 'Field:Medical Condition Assessment'),\n",
       " (0.05234328918022869, 'Field:Medical Condition Score'),\n",
       " (0.04583104645186576, 'Field:Gender'),\n",
       " (0.043206885841706004, 'process_days'),\n",
       " (0.04254607421375578, 'Field:Medical Condition 3 Score'),\n",
       " (0.016983157295491297, 'curr_country_Lebanon'),\n",
       " (0.015599947992783718, 'curr_country_Turkey'),\n",
       " (0.01549742599624407, 'nationality_Iraqi'),\n",
       " (0.01335540551840058, 'curr_country_Saudi Arabia'),\n",
       " (0.009266934168548856, 'curr_country_Iraq'),\n",
       " (0.007209006242320026, 'nationality_Syrian'),\n",
       " (0.005375045388930897, 'curr_country_Egypt'),\n",
       " (0.0, 'curr_country_Syria')]"
      ]
     },
     "execution_count": 298,
     "metadata": {},
     "output_type": "execute_result"
    }
   ],
   "source": [
    "rf = RandomForestClassifier()\n",
    "rf.fit(x2,y2)\n",
    "sorted(list(zip(rf.feature_importances_,x.columns)),reverse=True)"
   ]
  },
  {
   "cell_type": "code",
   "execution_count": null,
   "metadata": {},
   "outputs": [],
   "source": []
  }
 ],
 "metadata": {
  "kernelspec": {
   "display_name": "Python 3",
   "language": "python",
   "name": "python3"
  },
  "language_info": {
   "codemirror_mode": {
    "name": "ipython",
    "version": 3
   },
   "file_extension": ".py",
   "mimetype": "text/x-python",
   "name": "python",
   "nbconvert_exporter": "python",
   "pygments_lexer": "ipython3",
   "version": "3.7.5"
  }
 },
 "nbformat": 4,
 "nbformat_minor": 2
}
